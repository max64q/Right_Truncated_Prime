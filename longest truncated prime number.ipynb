{
 "cells": [
  {
   "cell_type": "code",
   "execution_count": 1,
   "metadata": {},
   "outputs": [],
   "source": [
    "import math"
   ]
  },
  {
   "cell_type": "code",
   "execution_count": 10,
   "metadata": {},
   "outputs": [],
   "source": [
    "#determines if a number is prime - Inputs assumed to be positive\n",
    "def isPrime(num):\n",
    "    if num > 1:\n",
    "        for i in range(2,num):\n",
    "            if((num % i) == 0):\n",
    "                return(False)\n",
    "            \n",
    "        return(True)\n",
    "    else:\n",
    "        return(False)\n",
    "                "
   ]
  },
  {
   "cell_type": "code",
   "execution_count": 36,
   "metadata": {},
   "outputs": [],
   "source": [
    "def truncPrime(num):\n",
    "    if(isPrime(num)):\n",
    "        for i in [1, 2, 3, 5, 7, 9]:\n",
    "            new = num * 10 + i\n",
    "            if(isPrime(new)):\n",
    "                truncnums.append(new)\n",
    "                truncPrime(new)\n",
    "                \n",
    "        return(num)\n"
   ]
  },
  {
   "cell_type": "code",
   "execution_count": 37,
   "metadata": {},
   "outputs": [
    {
     "data": {
      "text/plain": [
       "73939133"
      ]
     },
     "execution_count": 37,
     "metadata": {},
     "output_type": "execute_result"
    }
   ],
   "source": [
    "truncnums = []\n",
    "truncPrime(7)\n",
    "max(truncnums)"
   ]
  }
 ],
 "metadata": {
  "kernelspec": {
   "display_name": "Python 3",
   "language": "python",
   "name": "python3"
  },
  "language_info": {
   "codemirror_mode": {
    "name": "ipython",
    "version": 3
   },
   "file_extension": ".py",
   "mimetype": "text/x-python",
   "name": "python",
   "nbconvert_exporter": "python",
   "pygments_lexer": "ipython3",
   "version": "3.7.6"
  }
 },
 "nbformat": 4,
 "nbformat_minor": 4
}
